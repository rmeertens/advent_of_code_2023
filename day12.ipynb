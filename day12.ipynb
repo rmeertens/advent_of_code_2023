{
 "cells": [
  {
   "cell_type": "code",
   "execution_count": 27,
   "metadata": {},
   "outputs": [
    {
     "name": "stdout",
     "output_type": "stream",
     "text": [
      "part 1 8180\n",
      "part 2 620189727003627\n"
     ]
    }
   ],
   "source": [
    "import functools\n",
    "\n",
    "lines = [x.strip() for x in open('inputs/day12.txt')]\n",
    "\n",
    "@functools.lru_cache\n",
    "def get_ways_to_fill(stack, number_string):     \n",
    "    if len(number_string) == 0: \n",
    "        return int(stack.count('#') == 0)\n",
    "    elif len(stack) == 0: \n",
    "        return 0\n",
    "    \n",
    "\n",
    "    if stack[0] == '.':\n",
    "        return get_ways_to_fill(stack[1:], number_string)\n",
    "    \n",
    "    if stack[0] == '?':     \n",
    "        num_ways = get_ways_to_fill(stack[1:], number_string)\n",
    "    else: \n",
    "        num_ways = 0\n",
    "\n",
    "    \n",
    "    # Try to fit the next number at the question mark or # sign\n",
    "    numbers = [int(x) for x in number_string.split(',')]\n",
    "    next_number = numbers[0]\n",
    "\n",
    "    if len(stack) < next_number: \n",
    "        return num_ways\n",
    "    \n",
    "    fits_snuggly = len(stack) == next_number or stack[next_number] in '?.'\n",
    "\n",
    "    # See if it CAN fit. Next ones have to be ?# marks, and the one after that has to be a question mark or .\n",
    "    if all([x in '?#' for x in stack[:next_number]]) and fits_snuggly: \n",
    "        remaining_string = stack[next_number+1:]\n",
    "\n",
    "        remaining_numbers = ','.join([str(x) for x in numbers[1:]])\n",
    "        num_ways += get_ways_to_fill(remaining_string, remaining_numbers)\n",
    "    \n",
    "    return num_ways\n",
    "\n",
    "total = 0\n",
    "for line in lines: \n",
    "    stack, numbers = line.split()\n",
    "    \n",
    "    total += get_ways_to_fill(stack, numbers)\n",
    "print('part 1', total)\n",
    "\n",
    "total = 0\n",
    "for line in lines: \n",
    "    stack, numbers = line.split()\n",
    "    stack = '?'.join([stack for _ in range(5)])\n",
    "    numbers = ','.join(numbers for _ in range(5))\n",
    "    total += get_ways_to_fill(stack, numbers)\n",
    "print('part 2', total)\n",
    "\n",
    "\n",
    "\n",
    "assert get_ways_to_fill('???.###', '1,1,3') == 1\n",
    "assert get_ways_to_fill('.??..??...?##.', '1,1,3') == 4\n",
    "assert get_ways_to_fill('?#?#?#?#?#?#?#?', '1,3,1,6') == 1\n",
    "assert get_ways_to_fill('????.#...#...', '4,1,1') == 1\n",
    "assert get_ways_to_fill('????.######..#####.', '1,6,5') == 4\n",
    "assert get_ways_to_fill('?###????????', '3,2,1') == 10\n"
   ]
  },
  {
   "cell_type": "code",
   "execution_count": null,
   "metadata": {},
   "outputs": [],
   "source": []
  }
 ],
 "metadata": {
  "kernelspec": {
   "display_name": "base",
   "language": "python",
   "name": "python3"
  },
  "language_info": {
   "codemirror_mode": {
    "name": "ipython",
    "version": 3
   },
   "file_extension": ".py",
   "mimetype": "text/x-python",
   "name": "python",
   "nbconvert_exporter": "python",
   "pygments_lexer": "ipython3",
   "version": "3.9.13"
  }
 },
 "nbformat": 4,
 "nbformat_minor": 2
}
