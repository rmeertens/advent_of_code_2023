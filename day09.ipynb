{
 "cells": [
  {
   "cell_type": "code",
   "execution_count": 7,
   "metadata": {},
   "outputs": [
    {
     "name": "stdout",
     "output_type": "stream",
     "text": [
      "part 1 1938800261\n",
      "part 2 1112\n"
     ]
    }
   ],
   "source": [
    "sequences = open('inputs/day09.txt').readlines()\n",
    "\n",
    "def find_next_number(numbers): \n",
    "    diffs = list()\n",
    "    for i in range(1, len(numbers)): \n",
    "        diffs.append(numbers[i] - numbers[i-1])\n",
    "    \n",
    "    if not all([x == 0 for x in diffs]): \n",
    "        next = find_next_number(diffs)\n",
    "        return next + numbers[-1]\n",
    "    else:\n",
    "        return numbers[-1] # it was all zeros\n",
    "\n",
    "\n",
    "\n",
    "def find_first_number(numbers): \n",
    "    diffs = list()\n",
    "    for i in range(1, len(numbers)): \n",
    "        diffs.append(numbers[i] - numbers[i-1])\n",
    "    \n",
    "    if not all([x == 0 for x in diffs]): \n",
    "        next = find_first_number(diffs)\n",
    "        return numbers[0] - next \n",
    "    else:\n",
    "        return numbers[0] # it was all zeros\n",
    "\n",
    "\n",
    "total_sum_next = 0\n",
    "for sequence in sequences: \n",
    "    numbers = [int(x) for x in sequence.split()]\n",
    "    next = find_next_number(numbers)\n",
    "    total_sum_next += next\n",
    "print('part 1', total_sum_next)\n",
    "\n",
    "total_sum_next = 0\n",
    "for sequence in sequences: \n",
    "    numbers = [int(x) for x in sequence.split()]\n",
    "    next = find_first_number(numbers)\n",
    "    total_sum_next += next\n",
    "print('part 2', total_sum_next)\n",
    "\n"
   ]
  }
 ],
 "metadata": {
  "kernelspec": {
   "display_name": "base",
   "language": "python",
   "name": "python3"
  },
  "language_info": {
   "codemirror_mode": {
    "name": "ipython",
    "version": 3
   },
   "file_extension": ".py",
   "mimetype": "text/x-python",
   "name": "python",
   "nbconvert_exporter": "python",
   "pygments_lexer": "ipython3",
   "version": "3.9.13"
  }
 },
 "nbformat": 4,
 "nbformat_minor": 2
}
