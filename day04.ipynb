{
 "cells": [
  {
   "cell_type": "code",
   "execution_count": 1,
   "metadata": {},
   "outputs": [
    {
     "name": "stdout",
     "output_type": "stream",
     "text": [
      "Part 1 32609\n",
      "Part 2 14624680\n"
     ]
    }
   ],
   "source": [
    "from collections import defaultdict\n",
    "\n",
    "total_cards = defaultdict(lambda: 1)\n",
    "total_worth = 0\n",
    "total_cards_in_hand = 0\n",
    "\n",
    "lines = open('inputs/day04.txt').readlines()\n",
    "for index, line in enumerate(lines):\n",
    "    # A lot of parsing to get the right numbers\n",
    "    cardnum, numbers = line.split(':')\n",
    "    winning, mynums = numbers.split(\"|\")\n",
    "    \n",
    "    winning = [int(x) for x in winning.split(\" \") if x]\n",
    "    mynums = [int(x) for x in mynums.strip().split(\" \") if x]\n",
    "\n",
    "    # Determine the number of winning numbers\n",
    "    num_winning = len(set(winning) & set(mynums))\n",
    "    \n",
    "    if num_winning: \n",
    "        won_cards = 2**(num_winning-1)\n",
    "        total_worth += won_cards\n",
    "\n",
    "        for win_index in range(index+1, index+num_winning+1): \n",
    "            if win_index > len(lines): \n",
    "                break\n",
    "            total_cards[win_index] += total_cards[index]\n",
    "\n",
    "    total_cards_in_hand += total_cards[index]\n",
    "\n",
    "print(\"Part 1\", total_worth)\n",
    "print(\"Part 2\", total_cards_in_hand)"
   ]
  },
  {
   "cell_type": "code",
   "execution_count": null,
   "metadata": {},
   "outputs": [],
   "source": []
  },
  {
   "cell_type": "code",
   "execution_count": null,
   "metadata": {},
   "outputs": [],
   "source": []
  }
 ],
 "metadata": {
  "kernelspec": {
   "display_name": "Python 3",
   "language": "python",
   "name": "python3"
  },
  "language_info": {
   "codemirror_mode": {
    "name": "ipython",
    "version": 3
   },
   "file_extension": ".py",
   "mimetype": "text/x-python",
   "name": "python",
   "nbconvert_exporter": "python",
   "pygments_lexer": "ipython3",
   "version": "3.9.13"
  }
 },
 "nbformat": 4,
 "nbformat_minor": 2
}
