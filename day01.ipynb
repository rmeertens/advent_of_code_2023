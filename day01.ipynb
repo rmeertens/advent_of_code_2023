{
 "cells": [
  {
   "cell_type": "code",
   "execution_count": 1,
   "metadata": {},
   "outputs": [
    {
     "name": "stdout",
     "output_type": "stream",
     "text": [
      "Part 1 54597\n",
      "Part 2 54504\n"
     ]
    }
   ],
   "source": [
    "written_number_dict = {  \n",
    "    \"zero\": 0,\n",
    "    \"one\": 1,\n",
    "    \"two\": 2, \n",
    "    \"three\": 3, \n",
    "    \"four\": 4, \n",
    "    \"five\": 5, \n",
    "    \"six\": 6, \n",
    "    \"seven\": 7, \n",
    "    \"eight\": 8, \n",
    "    \"nine\": 9, \n",
    "}\n",
    "\n",
    "simple_number_dict = {\n",
    "    char : int(char) for char in \"0123456789\"\n",
    "}\n",
    "\n",
    "def get_total_sum(number_dict): \n",
    "    total_sum = 0\n",
    "    for line in open('inputs/day01.txt'): \n",
    "        numbers = list()\n",
    "        for index in range(len(line)): \n",
    "            for key in number_dict: \n",
    "                if line[index:].startswith(key): \n",
    "                    numbers.append(number_dict[key])\n",
    "        \n",
    "        num = str(numbers[0]) + str(numbers[-1])\n",
    "        total_sum += int(num)\n",
    "    return total_sum\n",
    "print(\"Part 1\", get_total_sum(simple_number_dict))\n",
    "print(\"Part 2\", get_total_sum(simple_number_dict | written_number_dict))"
   ]
  },
  {
   "cell_type": "code",
   "execution_count": null,
   "metadata": {},
   "outputs": [],
   "source": []
  }
 ],
 "metadata": {
  "kernelspec": {
   "display_name": "Python 3",
   "language": "python",
   "name": "python3"
  },
  "language_info": {
   "codemirror_mode": {
    "name": "ipython",
    "version": 3
   },
   "file_extension": ".py",
   "mimetype": "text/x-python",
   "name": "python",
   "nbconvert_exporter": "python",
   "pygments_lexer": "ipython3",
   "version": "3.9.6"
  }
 },
 "nbformat": 4,
 "nbformat_minor": 2
}
