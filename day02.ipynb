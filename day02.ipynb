{
 "cells": [
  {
   "cell_type": "code",
   "execution_count": 2,
   "metadata": {},
   "outputs": [
    {
     "name": "stdout",
     "output_type": "stream",
     "text": [
      "part 1 2239\n",
      "part 2 83435\n"
     ]
    }
   ],
   "source": [
    "from collections import defaultdict\n",
    "\n",
    "totalids = 0\n",
    "for line in open('inputs/day02.txt'): \n",
    "    gamenum, states = line.split(':')\n",
    "    _, gameid = gamenum.split()\n",
    "\n",
    "    is_possible = True\n",
    "    for state in states.split(';'):\n",
    "        \n",
    "        num_per_color = defaultdict(int)\n",
    "        for color in state.split(','):\n",
    "            num, c = color.split()\n",
    "            num_per_color[c] = int(num)\n",
    "\n",
    "        for maxpos, color in [(12, 'red'), (13, 'green'), (14, 'blue')]: \n",
    "            #12 red cubes, 13 green cubes, and 14 blue cubes\n",
    "            if num_per_color[color] > maxpos: \n",
    "                is_possible = False\n",
    "    if is_possible: \n",
    "        totalids += int(gameid)\n",
    "print('part 1', totalids)\n",
    "\n",
    "\n",
    "totalcubed = 0\n",
    "for line in open('inputs/day02.txt'): \n",
    "    gamenum, states = line.split(':')\n",
    "    _, gameid = gamenum.split()\n",
    "\n",
    "    is_possible = True\n",
    "    num_per_color = defaultdict(int)\n",
    "    for state in states.split(';'):\n",
    "        for color in state.split(','):\n",
    "            num, c = color.split()\n",
    "            num_per_color[c] = max(num_per_color[c], int(num))\n",
    "    totalcubed += num_per_color['red'] * num_per_color['green'] * num_per_color['blue']\n",
    "        \n",
    "print('part 2', totalcubed)"
   ]
  },
  {
   "cell_type": "code",
   "execution_count": null,
   "metadata": {},
   "outputs": [],
   "source": []
  }
 ],
 "metadata": {
  "kernelspec": {
   "display_name": "Python 3",
   "language": "python",
   "name": "python3"
  },
  "language_info": {
   "codemirror_mode": {
    "name": "ipython",
    "version": 3
   },
   "file_extension": ".py",
   "mimetype": "text/x-python",
   "name": "python",
   "nbconvert_exporter": "python",
   "pygments_lexer": "ipython3",
   "version": "3.9.6"
  }
 },
 "nbformat": 4,
 "nbformat_minor": 2
}
