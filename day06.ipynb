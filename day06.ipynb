{
 "cells": [
  {
   "cell_type": "code",
   "execution_count": 3,
   "metadata": {},
   "outputs": [
    {
     "name": "stdout",
     "output_type": "stream",
     "text": [
      "Part 1 633080\n"
     ]
    },
    {
     "name": "stderr",
     "output_type": "stream",
     "text": [
      "100%|██████████| 34908986/34908986 [00:10<00:00, 3179404.44it/s]"
     ]
    },
    {
     "name": "stdout",
     "output_type": "stream",
     "text": [
      "Part 2: 20048741\n"
     ]
    },
    {
     "name": "stderr",
     "output_type": "stream",
     "text": [
      "\n"
     ]
    }
   ],
   "source": [
    "import re\n",
    "\n",
    "lines = open('inputs/day06.txt').readlines()\n",
    "\n",
    "times = re.findall('\\d+', lines[0])\n",
    "distances = re.findall('\\d+', lines[1])\n",
    "\n",
    "answer1 = 1\n",
    "for time, distance in zip(times, distances):\n",
    "    time, distance = int(time), int(distance)\n",
    "\n",
    "    numways = 0\n",
    "    for startspeed in range(time): \n",
    "        covered_distance = startspeed * (time - startspeed)\n",
    "        if covered_distance > distance: \n",
    "            numways += 1\n",
    "    answer1 *= numways\n",
    "print('Part 1', answer1)\n",
    "\n",
    "time = int(''.join(times))\n",
    "distance = int(''.join(distances))\n",
    "\n",
    "import tqdm\n",
    "numways = 0\n",
    "for startspeed in tqdm.tqdm(range(time)): \n",
    "    covered_distance = startspeed * (time - startspeed)\n",
    "    if covered_distance > distance: \n",
    "        numways += 1\n",
    "print('Part 2:', numways)\n",
    "\n"
   ]
  }
 ],
 "metadata": {
  "kernelspec": {
   "display_name": "base",
   "language": "python",
   "name": "python3"
  },
  "language_info": {
   "codemirror_mode": {
    "name": "ipython",
    "version": 3
   },
   "file_extension": ".py",
   "mimetype": "text/x-python",
   "name": "python",
   "nbconvert_exporter": "python",
   "pygments_lexer": "ipython3",
   "version": "3.9.13"
  }
 },
 "nbformat": 4,
 "nbformat_minor": 2
}
