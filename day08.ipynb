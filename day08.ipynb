{
 "cells": [
  {
   "cell_type": "code",
   "execution_count": 3,
   "metadata": {},
   "outputs": [
    {
     "name": "stdout",
     "output_type": "stream",
     "text": [
      "part 1 18113\n",
      "part 2 12315788159977\n"
     ]
    }
   ],
   "source": [
    "import re\n",
    "import math\n",
    "\n",
    "directions, _, *nodes = open('inputs/day08.txt').readlines()\n",
    "directions = directions.strip()\n",
    "\n",
    "graph = dict()\n",
    "for node in nodes: \n",
    "    source, left, right = re.findall('[A-Z0-9]+', node)\n",
    "    graph[source] = (left, right)\n",
    "\n",
    "dir_dict = {\n",
    "    'L': 0,\n",
    "    'R': 1\n",
    "}\n",
    "def num_steps(graph, directions): \n",
    "    steps = 0\n",
    "    cur_pos = 'AAA'\n",
    "    while cur_pos != 'ZZZ': \n",
    "        direction = directions[steps % len(directions)]\n",
    "        cur_pos = graph[cur_pos][dir_dict[direction]]\n",
    "        steps += 1\n",
    "    print('part 1', steps)\n",
    "\n",
    "def num_steps_part_2(graph, directions): \n",
    "    modulus = list()\n",
    "    startnodes = [node for node in graph if node.endswith('A')]\n",
    "    for startnode in startnodes: \n",
    "        steps = 0\n",
    "        cur_pos = startnode\n",
    "        while not cur_pos.endswith('Z'):    \n",
    "            direction = directions[steps % len(directions)]\n",
    "            cur_pos = graph[cur_pos][dir_dict[direction]]\n",
    "            steps += 1\n",
    "        modulus.append(steps)\n",
    "    print('part 2', math.lcm(*modulus))\n",
    "\n",
    "\n",
    "num_steps(graph, directions)\n",
    "num_steps_part_2(graph, directions)"
   ]
  },
  {
   "cell_type": "code",
   "execution_count": null,
   "metadata": {},
   "outputs": [],
   "source": []
  }
 ],
 "metadata": {
  "kernelspec": {
   "display_name": "base",
   "language": "python",
   "name": "python3"
  },
  "language_info": {
   "codemirror_mode": {
    "name": "ipython",
    "version": 3
   },
   "file_extension": ".py",
   "mimetype": "text/x-python",
   "name": "python",
   "nbconvert_exporter": "python",
   "pygments_lexer": "ipython3",
   "version": "3.9.13"
  }
 },
 "nbformat": 4,
 "nbformat_minor": 2
}
