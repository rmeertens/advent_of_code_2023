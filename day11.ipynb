{
 "cells": [
  {
   "cell_type": "code",
   "execution_count": 8,
   "metadata": {},
   "outputs": [
    {
     "name": "stdout",
     "output_type": "stream",
     "text": [
      "part 1 9521550\n",
      "part 2 298932923702\n"
     ]
    }
   ],
   "source": [
    "import numpy as np\n",
    "from itertools import combinations\n",
    "\n",
    "galaxy = open('inputs/day11.txt').readlines()\n",
    "\n",
    "# Make it a numpy array\n",
    "np_galaxy = list()\n",
    "for line in galaxy: \n",
    "    row = [1 if char == '#' else 0 for char in line.strip()]\n",
    "    np_galaxy.append(row)\n",
    "np_galaxy = np.array(np_galaxy)\n",
    "\n",
    "# Find the locations of galaxies and empty rows\n",
    "ys, xs = np.where(np_galaxy)\n",
    "empty_rows = [y for y in range(np_galaxy.shape[0]) if y not in ys]\n",
    "empty_columns = [x for x in range(np_galaxy.shape[1]) if x not in xs]\n",
    "galaxies = [(y,x) for (y,x) in zip(ys, xs)]\n",
    "\n",
    "def galaxy_distance(p1, p2, add_empty= 1_000_000): \n",
    "    ystart, yend = min(p1[0], p2[0]), max(p1[0], p2[0])\n",
    "    xstart, xend = min(p1[1], p2[1]), max(p1[1], p2[1])\n",
    "\n",
    "    distance = sum([add_empty if y in empty_rows else 1 for y in range(ystart, yend)])\n",
    "    distance += sum([add_empty if x in empty_columns else 1 for x in range(xstart, xend)])\n",
    "\n",
    "    return distance\n",
    "\n",
    "# Determine the distance\n",
    "sum_distances_1 = 0\n",
    "sum_distances_2 = 0\n",
    "for a, b in combinations(galaxies, 2): \n",
    "    sum_distances_1 += galaxy_distance(a, b, 2)\n",
    "    sum_distances_2 += galaxy_distance(a, b, 1_000_000)\n",
    "\n",
    "print('part 1', sum_distances_1)\n",
    "print('part 2', sum_distances_2)"
   ]
  },
  {
   "cell_type": "code",
   "execution_count": 4,
   "metadata": {},
   "outputs": [],
   "source": []
  },
  {
   "cell_type": "code",
   "execution_count": 7,
   "metadata": {},
   "outputs": [
    {
     "name": "stdout",
     "output_type": "stream",
     "text": [
      "part 1 9521550\n",
      "part 2 298932923702\n"
     ]
    }
   ],
   "source": []
  },
  {
   "cell_type": "code",
   "execution_count": 6,
   "metadata": {},
   "outputs": [
    {
     "data": {
      "text/plain": [
       "440"
      ]
     },
     "execution_count": 6,
     "metadata": {},
     "output_type": "execute_result"
    }
   ],
   "source": [
    "len(galaxies)"
   ]
  },
  {
   "cell_type": "code",
   "execution_count": null,
   "metadata": {},
   "outputs": [],
   "source": []
  }
 ],
 "metadata": {
  "kernelspec": {
   "display_name": "base",
   "language": "python",
   "name": "python3"
  },
  "language_info": {
   "codemirror_mode": {
    "name": "ipython",
    "version": 3
   },
   "file_extension": ".py",
   "mimetype": "text/x-python",
   "name": "python",
   "nbconvert_exporter": "python",
   "pygments_lexer": "ipython3",
   "version": "3.9.13"
  }
 },
 "nbformat": 4,
 "nbformat_minor": 2
}
