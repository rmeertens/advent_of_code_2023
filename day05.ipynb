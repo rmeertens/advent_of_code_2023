{
 "cells": [
  {
   "cell_type": "code",
   "execution_count": 1,
   "metadata": {},
   "outputs": [
    {
     "name": "stdout",
     "output_type": "stream",
     "text": [
      "part 1 650599855\n"
     ]
    }
   ],
   "source": [
    "import functools\n",
    "import random\n",
    "import tqdm\n",
    "\n",
    "lines = open('inputs/day05.txt').read()\n",
    "seeds, *maps = lines.split('\\n\\n')\n",
    "\n",
    "map_ranges = dict()\n",
    "titles = list()\n",
    "\n",
    "for map_txt in maps: \n",
    "    title, *rows = map_txt.split(\"\\n\")\n",
    "    titles.append(title)\n",
    "    map_ranges[title] = list()\n",
    "    for row in rows: \n",
    "        row = [int(x) for x in row.split(' ') if x]\n",
    "        dest_range_start, source_range_start, range_length = row\n",
    "        map_ranges[title].append(row)\n",
    "\n",
    "@functools.cache        \n",
    "def get_output_for_seed(seed): \n",
    "    cur_num = seed\n",
    "    for title in titles: \n",
    "        for map_range in map_ranges[title]: \n",
    "            dest_range_start, source_range_start, range_length = map_range\n",
    "            if cur_num in range(source_range_start, source_range_start + range_length): \n",
    "                cur_num = cur_num - (source_range_start - dest_range_start)\n",
    "                break\n",
    "    return cur_num\n",
    "\n",
    "_, *seeds = seeds.split(' ')\n",
    "results = list()\n",
    "for cur_num in seeds: \n",
    "    cur_num = int(cur_num)\n",
    "    cur_num = get_output_for_seed(cur_num)\n",
    "    results.append(cur_num)\n",
    "\n",
    "print(\"part 1\", min(results))"
   ]
  },
  {
   "cell_type": "code",
   "execution_count": 3,
   "metadata": {},
   "outputs": [
    {
     "name": "stderr",
     "output_type": "stream",
     "text": [
      "100%|██████████| 10000/10000 [00:22<00:00, 453.75it/s]\n",
      "100%|██████████| 10000/10000 [00:19<00:00, 508.46it/s]\n",
      " 24%|██▍       | 2439/10000 [00:00<00:01, 4238.59it/s]"
     ]
    }
   ],
   "source": [
    "ranges = list()\n",
    "num_initial_seeds = 5_000\n",
    "\n",
    "all_trials = list() # (result, input)\n",
    "for i in range(0, len(seeds), 2): \n",
    "    start = int(seeds[i])\n",
    "    rangelen = int(seeds[i+1])\n",
    "    \n",
    "    ranges.append(range(start, start+rangelen))    \n",
    "\n",
    "    totry = random.sample(ranges[-1], k=min(len(ranges[-1]), num_initial_seeds))\n",
    "\n",
    "    for try_seed in totry: \n",
    "        all_trials.append((get_output_for_seed(try_seed), try_seed))\n",
    "\n",
    "\n",
    "for random_scatter in [10_000, 1_000, 512, 256, 128, 64, 32, 8, 3]: \n",
    "    all_trials = list(set(all_trials))\n",
    "    all_trials.sort()\n",
    "    all_trials = all_trials[:10_000]\n",
    "\n",
    "    new_trials = list()\n",
    "    for output, seed in tqdm.tqdm(all_trials): \n",
    "        for _ in range(min(random_scatter, 100)): \n",
    "            new_seed = seed + random.randint(-1*random_scatter, random_scatter)\n",
    "\n",
    "            found = False\n",
    "            for r in ranges: \n",
    "                if new_seed in r: \n",
    "                    found = True\n",
    "            if not found: \n",
    "                continue\n",
    "            \n",
    "            new_trials.append((get_output_for_seed(new_seed), new_seed) )\n",
    "    all_trials = new_trials\n",
    "    all_trials.sort()\n",
    "print('part 2', all_trials[0][0])        \n"
   ]
  },
  {
   "cell_type": "code",
   "execution_count": null,
   "metadata": {},
   "outputs": [],
   "source": []
  },
  {
   "cell_type": "code",
   "execution_count": null,
   "metadata": {},
   "outputs": [],
   "source": []
  },
  {
   "cell_type": "code",
   "execution_count": 10,
   "metadata": {},
   "outputs": [
    {
     "name": "stdout",
     "output_type": "stream",
     "text": [
      "79 14\n"
     ]
    },
    {
     "name": "stderr",
     "output_type": "stream",
     "text": [
      "100%|██████████| 14/14 [00:00<00:00, 69656.29it/s]\n"
     ]
    },
    {
     "name": "stdout",
     "output_type": "stream",
     "text": [
      "55 13\n"
     ]
    },
    {
     "name": "stderr",
     "output_type": "stream",
     "text": [
      "100%|██████████| 13/13 [00:00<00:00, 46924.23it/s]\n"
     ]
    }
   ],
   "source": [
    "import tqdm\n",
    "\n",
    "lines = open('inputs/day05.txt').read()\n",
    "seeds, *maps = lines.split('\\n\\n')\n",
    "\n",
    "map_ranges = dict()\n",
    "titles = list()\n",
    "\n",
    "for map_txt in maps: \n",
    "    title, *rows = map_txt.split(\"\\n\")\n",
    "    titles.append(title)\n",
    "    map_ranges[title] = list()\n",
    "    for row in rows: \n",
    "        row = [int(x) for x in row.split(' ') if x]\n",
    "        # print(row)\n",
    "        dest_range_start, source_range_start, range_length = row\n",
    "        map_ranges[title].append(row)\n",
    "\n",
    "\n",
    "\n",
    "\n",
    "\n",
    "_, *seeds = seeds.split(' ')\n",
    "results = list()\n",
    "aa = dict()\n",
    "for i in range(0, len(seeds), 2): \n",
    "    start = int(seeds[i])\n",
    "    end = int(seeds[i+1])\n",
    "    print(start, end)\n",
    "    for cur_num in tqdm.tqdm(range(start, start + end)): \n",
    "        startnum = cur_num\n",
    "        # print('starting now with ', cur_num)\n",
    "        cur_num = int(cur_num)\n",
    "        for title in titles: \n",
    "            in_range = False\n",
    "            for map_range in map_ranges[title]: \n",
    "                # print(range)\n",
    "                dest_range_start, source_range_start, range_length = map_range\n",
    "                if cur_num in range(source_range_start, source_range_start + range_length): \n",
    "                    # print('found', cur_num - (source_range_start - dest_range_start), 'becauce of rule', dest_range_start, source_range_start, range_length)\n",
    "                    cur_num = cur_num - (source_range_start - dest_range_start)\n",
    "                    in_range = True\n",
    "                    break\n",
    "            # if not in_range:\n",
    "                # print(\"Not found\", cur_num)\n",
    "        # print('result', cur_num)\n",
    "        results.append(cur_num)\n",
    "        aa[startnum] = cur_num\n",
    "    # break\n"
   ]
  },
  {
   "cell_type": "code",
   "execution_count": 14,
   "metadata": {},
   "outputs": [
    {
     "data": {
      "text/plain": [
       "<matplotlib.collections.PathCollection at 0x7fb0a8179580>"
      ]
     },
     "execution_count": 14,
     "metadata": {},
     "output_type": "execute_result"
    },
    {
     "data": {
      "image/png": "[encoded data removed]",
      "text/plain": [
       "<Figure size 640x480 with 1 Axes>"
      ]
     },
     "metadata": {},
     "output_type": "display_data"
    }
   ],
   "source": [
    "import matplotlib.pyplot as plt\n",
    "plt.scatter([x for x in aa], [aa[x] for x in aa])"
   ]
  },
  {
   "cell_type": "code",
   "execution_count": 3,
   "metadata": {},
   "outputs": [
    {
     "name": "stdout",
     "output_type": "stream",
     "text": [
      "432563865 39236501\n",
      "1476854973 326201032\n",
      "1004521373 221995697\n",
      "2457503679 46909145\n",
      "603710475 11439698\n",
      "1242281714 12935671\n",
      "2569215463 456738587\n",
      "3859706369 129955069\n",
      "3210146725 618372750\n",
      "601583464 1413192\n"
     ]
    }
   ],
   "source": [
    "# Pick random seeds and keep following to the minimum"
   ]
  },
  {
   "cell_type": "code",
   "execution_count": null,
   "metadata": {},
   "outputs": [],
   "source": []
  }
 ],
 "metadata": {
  "kernelspec": {
   "display_name": "Python 3",
   "language": "python",
   "name": "python3"
  },
  "language_info": {
   "codemirror_mode": {
    "name": "ipython",
    "version": 3
   },
   "file_extension": ".py",
   "mimetype": "text/x-python",
   "name": "python",
   "nbconvert_exporter": "python",
   "pygments_lexer": "ipython3",
   "version": "3.9.13"
  }
 },
 "nbformat": 4,
 "nbformat_minor": 2
}
