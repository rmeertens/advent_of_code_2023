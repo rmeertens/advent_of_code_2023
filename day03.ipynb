{
 "cells": [
  {
   "cell_type": "code",
   "execution_count": 1,
   "metadata": {},
   "outputs": [
    {
     "name": "stdout",
     "output_type": "stream",
     "text": [
      "part 1 535235\n",
      "part 2 79844424\n"
     ]
    }
   ],
   "source": [
    "\n",
    "lines = open('inputs/day03.txt').readlines()\n",
    "lines = [x.strip() + '.' for x in lines] # add extra dot\n",
    "\n",
    "char_locations = dict()\n",
    "number_locations = dict()\n",
    "\n",
    "charstring = \"\"\n",
    "charstart = (0,0)\n",
    "for y, row in enumerate(lines): \n",
    "    for x, char in enumerate(row): \n",
    "        if char.isdecimal(): \n",
    "            if not charstring: \n",
    "                charstart = (y, x)\n",
    "            charstring += char\n",
    "        else:\n",
    "            if char not in \"01234567890.\":\n",
    "                char_locations[(y, x)] = char\n",
    "            \n",
    "            # Check if number ended\n",
    "            if charstring: \n",
    "                number_locations[charstart] = charstring\n",
    "                charstring = \"\"\n",
    "    \n",
    "    # Check if number ended after line\n",
    "    if charstring: \n",
    "        number_locations[charstart] = charstring\n",
    "        charstring = \"\"\n",
    "\n",
    "def has_char_adjacent(location, number): \n",
    "    for y in range(location[0]-1, location[0]+2): \n",
    "        for x in range(location[1]-1, location[1]+len(number)+1):\n",
    "            if (y,x) in char_locations:\n",
    "                # print(number)\n",
    "                # totsum += int(number)\n",
    "                return True\n",
    "totsum = 0\n",
    "for location in number_locations: \n",
    "    number = number_locations[location]\n",
    "    # search diagonally\n",
    "    if has_char_adjacent(location, number): \n",
    "        totsum += int(number)\n",
    "print('part 1', totsum)\n",
    "\n",
    "totalsum = 0\n",
    "for location in char_locations: \n",
    "    if char_locations[location] == '*': \n",
    "        matching_location_numbers = set()\n",
    "        for y in range(location[0]-1, location[0]+2): \n",
    "            for x in range(location[1]-1, location[1]+2): \n",
    "                \n",
    "                # Check if there is a number in this range\n",
    "                for num_location in number_locations: \n",
    "                    if num_location[0] == y and x in range(num_location[1], num_location[1]+len(number_locations[num_location])): \n",
    "                        matching_location_numbers.add(num_location)\n",
    "        matching_location_numbers = list(matching_location_numbers)\n",
    "        if len(matching_location_numbers) == 2: \n",
    "            multiplied = int(number_locations[matching_location_numbers[0]]) * int(number_locations[matching_location_numbers[1]])\n",
    "            totalsum += multiplied\n",
    "print('part 2', totalsum)\n",
    "            "
   ]
  },
  {
   "cell_type": "code",
   "execution_count": null,
   "metadata": {},
   "outputs": [],
   "source": []
  }
 ],
 "metadata": {
  "kernelspec": {
   "display_name": "Python 3",
   "language": "python",
   "name": "python3"
  },
  "language_info": {
   "codemirror_mode": {
    "name": "ipython",
    "version": 3
   },
   "file_extension": ".py",
   "mimetype": "text/x-python",
   "name": "python",
   "nbconvert_exporter": "python",
   "pygments_lexer": "ipython3",
   "version": "3.9.6"
  }
 },
 "nbformat": 4,
 "nbformat_minor": 2
}
