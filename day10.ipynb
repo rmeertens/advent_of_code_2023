{
 "cells": [
  {
   "cell_type": "code",
   "execution_count": 18,
   "metadata": {},
   "outputs": [
    {
     "name": "stdout",
     "output_type": "stream",
     "text": [
      "part 1 6800\n",
      "part 2: 483\n"
     ]
    }
   ],
   "source": [
    "import numpy as np\n",
    "import matplotlib.pyplot as plt\n",
    "from collections import defaultdict\n",
    "\n",
    "pipes = open('inputs/day10.txt').readlines()\n",
    "pipes = [x.strip() for x in pipes]\n",
    "\n",
    "maze = defaultdict(lambda: '.')\n",
    "can_be_connected = defaultdict(lambda: False)\n",
    "\n",
    "for y in range(len(pipes)): \n",
    "    for x in range(len(pipes[0])):\n",
    "        maze[(y,x)] = pipes[y][x]\n",
    "        can_be_connected[(y,x)] = True\n",
    "\n",
    "direction_deltas = [(-1, 0), (0, 1), (1,0), (0,-1)] # (dy, dx)\n",
    "pieces = {\n",
    "    '.': [0,0,0,0], # North, East, South, West\n",
    "    '-': [0,1,0,1],\n",
    "    '|': [1,0,1,0],\n",
    "    'L': [1,1,0,0],\n",
    "    'J': [1,0,0,1],\n",
    "    '7': [0,0,1,1],\n",
    "    'F': [0,1,1,0],\n",
    "    'S': [1,1,1,1], # S can connect to all...\n",
    "}\n",
    "\n",
    "startpoint = [key for key in maze if maze[key] == 'S'][0]\n",
    "points_distance = [(startpoint, 0)]\n",
    "visited = set([startpoint])\n",
    "highestfound = 0\n",
    "distance_to_point = defaultdict(lambda: '.')\n",
    "\n",
    "def connecting_points(point): \n",
    "    for is_connected, direction in zip(pieces[maze[point]], direction_deltas):\n",
    "        if is_connected:\n",
    "            yield (point[0]+direction[0], point[1]+direction[1])\n",
    "\n",
    "def pipes_can_connect_to_each_other(point1, point2): \n",
    "    destinations_point_1 = [p for p in connecting_points(point1)]\n",
    "    destinations_point_2 = [p for p in connecting_points(point2)]\n",
    "    return point1 in destinations_point_2 and point2 in destinations_point_1\n",
    "\n",
    "# Determine part 1 by figuring out what the furthest distance is. \n",
    "for point, distance in points_distance: \n",
    "    highestfound = max(highestfound, distance)\n",
    "    for newpoint in connecting_points(point):\n",
    "        if newpoint not in visited and pipes_can_connect_to_each_other(point, newpoint):\n",
    "            visited.add(newpoint)\n",
    "            points_distance.append((newpoint, distance+1))\n",
    "            distance_to_point[newpoint] = distance+1\n",
    "\n",
    "# Determine part 2 by checking how many pipes there are on the outside\n",
    "total_enclosed = 0\n",
    "for y, x in maze.keys(): \n",
    "    if (y,x) not in visited: \n",
    "        # Check if actually enclosed by counting the pipes on the left\n",
    "        leftpipes = ''.join([pipes[y][newx] for newx in range(0, x) if (y, newx) in visited])\n",
    "        leftpipes = leftpipes.replace('-', '')\n",
    "        leftpipes = leftpipes.replace('LJ', '') # simple bend from the top\n",
    "        leftpipes = leftpipes.replace('F7', '') # Simple bend from the bottom\n",
    "        leftpipes = leftpipes.replace('L7', '|') \n",
    "        leftpipes = leftpipes.replace('FJ', '|')\n",
    "\n",
    "        if leftpipes.count('|') % 2 == 1: \n",
    "            total_enclosed += 1\n",
    "\n",
    "print('part 1', highestfound)\n",
    "print('part 2:', total_enclosed)\n",
    "# maze"
   ]
  },
  {
   "cell_type": "code",
   "execution_count": null,
   "metadata": {},
   "outputs": [],
   "source": []
  },
  {
   "cell_type": "code",
   "execution_count": null,
   "metadata": {},
   "outputs": [],
   "source": []
  },
  {
   "cell_type": "code",
   "execution_count": null,
   "metadata": {},
   "outputs": [],
   "source": []
  }
 ],
 "metadata": {
  "kernelspec": {
   "display_name": "Python 3",
   "language": "python",
   "name": "python3"
  },
  "language_info": {
   "codemirror_mode": {
    "name": "ipython",
    "version": 3
   },
   "file_extension": ".py",
   "mimetype": "text/x-python",
   "name": "python",
   "nbconvert_exporter": "python",
   "pygments_lexer": "ipython3",
   "version": "3.9.13"
  }
 },
 "nbformat": 4,
 "nbformat_minor": 2
}
